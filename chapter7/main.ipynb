{
 "cells": [
  {
   "cell_type": "markdown",
   "metadata": {
    "vscode": {
     "languageId": "plaintext"
    }
   },
   "source": [
    "# Week 7 - Optimization"
   ]
  },
  {
   "cell_type": "code",
   "execution_count": null,
   "metadata": {},
   "outputs": [],
   "source": [
    "\n",
    "import numpy as np\n",
    "import matplotlib.pyplot as plt\n",
    "\n",
    "EPS = 0.001\n",
    "\n",
    "def func(x1,x2):\n",
    "    z = 2*np.cosh(x1) + np.cosh(x2) + np.cosh(0.1*x1*x2)\n",
    "    return z\n",
    "\n",
    "\n",
    "def func_grad(x1, x2):\n",
    "    grad = np.array([2*np.sinh(x1) + 0.1 * x2 * np.sinh(0.1 * x1 * x2), np.sinh(x2) +  0.1 * x1*np. sinh(0.1* x1 *x2)])\n",
    "    return grad\n",
    "\n",
    "def func_hessian(x1, x2):\n",
    "    hessian = np.array([[0.01*x2**2*np.cosh(0.1*x1*x2)+2*np.cosh(x1), 0.1*np.sinh(0.1*x1*x2) + 0.01*x1*x2*np.cosh(0.1*x1*x2)], \n",
    "                        \n",
    "                        [0.1 * np.sinh(0.1 * x1 * x2) + 0.01 * x1 * x2 * np.cosh(0.1 * x1 * x2), 0.01 * x1**2 * np.cosh(0.1 * x1 * x2) + np.cosh(x2)]])\n",
    "    return hessian\n",
    "\n",
    "def draw_function():\n",
    "  \n",
    "    x = np.linspace(-2, 4.5, 100)\n",
    "    y = np.linspace(-2, 4.5,  100)\n",
    "    X, Y = np.meshgrid(x, y)\n",
    "    Z = func(X,Y)\n",
    "    plt.pcolormesh(X, Y, Z, cmap='viridis')\n",
    "    plt.colorbar()\n",
    "    plt.contour(X,Y,Z)\n",
    "    plt.xlabel('x1')\n",
    "    plt.ylabel('x2')\n",
    "\n",
    "def gradient_descent():\n",
    "    X = np.array([4,4])\n",
    "    lr = 0.03\n",
    "    solutions = np.copy(X)[:, np.newaxis]\n",
    "    func_values = [func(X[0], X[1])]\n",
    "    for i in range(500):\n",
    "        X = X - lr*func_grad(X[0], X[1])\n",
    "        solutions = np.concatenate((solutions, X[:,np.newaxis]), axis= 1)\n",
    "        func_values.append(func(X[0], X[1]))\n",
    "        if np.abs(func_values[-1]-func_values[-2]) < EPS:\n",
    "            print(f'Gradient descent number of iterations: {i}')\n",
    "            break\n",
    "\n",
    "    plt.figure()\n",
    "    draw_function()\n",
    "    plt.plot(solutions[0,:], solutions[1,:])\n",
    "    plt.scatter(solutions[0,:], solutions[1,:],s=4 )\n",
    "    plt.title('Gradient descent')\n",
    "\n",
    "def newtons_method():\n",
    "    X = np.array([4,4])\n",
    "    lr = 0.5\n",
    "    solutions = np.copy(X)[:, np.newaxis]\n",
    "    func_values = [func(X[0], X[1])]\n",
    "    for i in range(500):\n",
    "        X = X - np.dot(np.linalg.inv(func_hessian(X[0], X[1])), func_grad(X[0], X[1]))\n",
    "        solutions = np.concatenate((solutions, X[:,np.newaxis]), axis= 1)\n",
    "        func_values.append(func(X[0], X[1]))\n",
    "        if np.abs(func_values[-1]-func_values[-2]) < EPS:\n",
    "            print(f'Newtons methods number of iterations: {i}')\n",
    "            break\n",
    "    plt.figure()\n",
    "    draw_function()\n",
    "    plt.plot(solutions[0,:], solutions[1,:])\n",
    "    plt.scatter(solutions[0,:], solutions[1,:])\n",
    "\n"
   ]
  },
  {
   "cell_type": "code",
   "execution_count": null,
   "metadata": {},
   "outputs": [],
   "source": [
    "\n",
    "gradient_descent()\n",
    "newtons_method()\n",
    "plt.show(block=True)\n",
    "\n",
    "\n",
    "\n",
    "\n",
    "\n",
    "\n"
   ]
  }
 ],
 "metadata": {
  "language_info": {
   "name": "python"
  }
 },
 "nbformat": 4,
 "nbformat_minor": 2
}
