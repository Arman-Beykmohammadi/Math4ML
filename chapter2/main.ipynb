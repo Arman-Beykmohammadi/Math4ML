{
 "cells": [
  {
   "cell_type": "markdown",
   "metadata": {},
   "source": [
    "# Week 2 - Nearest centroid classifier"
   ]
  },
  {
   "cell_type": "code",
   "execution_count": null,
   "metadata": {},
   "outputs": [],
   "source": [
    "- hide cells\n",
    "- what is classification\n",
    "- explaind nearest centroid classifier\n",
    "- how to learn\n",
    "- how to predict\n",
    "- how to evaluate "
   ]
  },
  {
   "cell_type": "code",
   "execution_count": null,
   "metadata": {},
   "outputs": [],
   "source": [
    "import numpy as np\n",
    "from numpy.linalg import norm    \n",
    "import pandas as pd\n",
    "from sklearn.model_selection import train_test_split\n",
    "from sklearn.metrics import accuracy_score\n"
   ]
  },
  {
   "cell_type": "code",
   "execution_count": null,
   "metadata": {},
   "outputs": [],
   "source": [
    "\n",
    "\n",
    "class NearestCentroidClassifier:\n",
    "    def __init__(self):\n",
    "        self.centroids = None\n",
    "        self.classes_ = None\n",
    "        \n",
    "    \n",
    "    def fit(self, X, y):\n",
    "        \"\"\"\n",
    "        Fit the model using X as training data and y as target values.\n",
    "        :param X: array-like, shape (n_samples, n_features) Training data.\n",
    "        :param y: array-like, shape (n_samples,) Target values.\n",
    "        \"\"\"\n",
    "        self.classes_ = np.unique(y)\n",
    "        self.centroids = [ np.mean(X[y==class_], axis=0) for class_ in self.classes_]\n",
    "\n",
    "        \n",
    "    \n",
    "    def predict(self, X):\n",
    "        \"\"\"\n",
    "        Perform classification on samples in X.\n",
    "        :param X: array-like, shape (n_samples, n_features) Input data.\n",
    "        :return: array, shape (n_samples,) Predicted class label per sample.\n",
    "        \"\"\"\n",
    "        differences_cent_0 = norm(X - self.centroids[0], axis=1)\n",
    "        differences_cent_1 = norm(X - self.centroids[1], axis=1)\n",
    "        output = np.where(differences_cent_1<differences_cent_0, self.classes_[1], self.classes_[0])\n",
    "        return output\n",
    "\n"
   ]
  },
  {
   "cell_type": "markdown",
   "metadata": {},
   "source": [
    "- description of used data\n"
   ]
  },
  {
   "cell_type": "code",
   "execution_count": 4,
   "metadata": {},
   "outputs": [
    {
     "name": "stdout",
     "output_type": "stream",
     "text": [
      "(569, 17)\n",
      "Accuracy: 0.8881578947368421\n"
     ]
    }
   ],
   "source": [
    "\n",
    "data = pd.read_csv('../datasets/breast_cancer_data/data_processed.csv')\n",
    "print(data.shape)\n",
    "# y includes our labels and x includes our features\n",
    "y = data.diagnosis      # M or B \n",
    "list = ['diagnosis']\n",
    "x = data.drop(list,axis = 1 )\n",
    "\n",
    "# split data train 70 % and test 30 %\n",
    "x[\"bias\"] = np.ones(x.shape[0])\n",
    "x_train, x_test, y_train, y_test = train_test_split(x, y, test_size=0.8, random_state=42)\n",
    "\n",
    "#random forest classifier with n_estimators=10 (default)\n",
    "\n",
    "\n",
    "# Create and train the Nearest Centroid Classifier\n",
    "classifier = NearestCentroidClassifier()\n",
    "classifier.fit(x_train.values,y_train.values)\n",
    "# Predict the classes for the test data\n",
    "y_pred = classifier.predict(x_test.values)\n",
    "\n",
    "# Calculate and print the accuracy\n",
    "print(\"Accuracy:\", accuracy_score(y_test, y_pred))"
   ]
  },
  {
   "cell_type": "code",
   "execution_count": 7,
   "metadata": {},
   "outputs": [
    {
     "data": {
      "text/plain": [
       "(113, 17)"
      ]
     },
     "execution_count": 7,
     "metadata": {},
     "output_type": "execute_result"
    }
   ],
   "source": [
    "x_train.values.shape"
   ]
  },
  {
   "cell_type": "code",
   "execution_count": null,
   "metadata": {},
   "outputs": [],
   "source": []
  }
 ],
 "metadata": {
  "kernelspec": {
   "display_name": "math4ml",
   "language": "python",
   "name": "python3"
  },
  "language_info": {
   "codemirror_mode": {
    "name": "ipython",
    "version": 3
   },
   "file_extension": ".py",
   "mimetype": "text/x-python",
   "name": "python",
   "nbconvert_exporter": "python",
   "pygments_lexer": "ipython3",
   "version": "3.10.16"
  }
 },
 "nbformat": 4,
 "nbformat_minor": 2
}
